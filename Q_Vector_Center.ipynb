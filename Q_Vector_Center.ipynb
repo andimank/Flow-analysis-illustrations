{
 "cells": [
  {
   "cell_type": "markdown",
   "id": "691a643b",
   "metadata": {},
   "source": [
    "# Function to randomly sample angles and calculate the average, illustrating that it tends to 0 over many events."
   ]
  },
  {
   "cell_type": "code",
   "execution_count": null,
   "id": "530c02b2",
   "metadata": {},
   "outputs": [],
   "source": [
    "import numpy as np\n",
    "import matplotlib.pyplot as plt\n",
    "import random"
   ]
  },
  {
   "cell_type": "code",
   "execution_count": null,
   "id": "b9bf8837",
   "metadata": {},
   "outputs": [],
   "source": [
    "# Takes as input the number of events (Nev) and the order of the harmonic (n) and \n",
    "# calculates the average Qn for a random sample of Nev event-plane angles\n",
    "\n",
    "# Returns lists of the real and imaginary parts of each event's Qn (x,y), and the real\n",
    "# and imaginary parts of the event-averaged <Qn> (X,Y) or the \"vector center\"\n",
    "\n",
    "def Qvector_Center(Nev,n):\n",
    "    x = []; y = [];\n",
    "    X=0; Y=0;\n",
    "    # start event loop\n",
    "    for i in range(Nev):\n",
    "        # sample a random event plane angle\n",
    "        theta = random.uniform(0, 2*np.pi)\n",
    "        # add the real and imaginary parts to the corresponding lists and totals\n",
    "        # real part\n",
    "        x.append(np.cos(n*theta));\n",
    "        X+=np.cos(n*theta) \n",
    "        # imaginary part\n",
    "        y.append(np.sin(n*theta))\n",
    "        Y+=np.sin(n*theta)\n",
    "    # calculate the average by dividing by the number of events\n",
    "    X=X/Nev; Y=Y/Nev;\n",
    "    return(x,y,X,Y)"
   ]
  },
  {
   "cell_type": "code",
   "execution_count": null,
   "id": "56ae65f7",
   "metadata": {},
   "outputs": [],
   "source": [
    "# Test the function and save a plot\n",
    "N = [10,100,1000,10000] # number of events\n",
    "n = 2 # order of the harmonic\n",
    "plt.figure(figsize=(22, 4))\n",
    "# loop over different total event numbers (4 plots)\n",
    "for ix, m in enumerate(N):\n",
    "    plt.subplot(1,4,ix+1)\n",
    "    plt.xlim(-1.4,1.4)\n",
    "    plt.ylim(-1.4,1.4)\n",
    "    x, y, X, Y = Qvector_Center(m,n)\n",
    "    # loop over all events for a given plot/Nev\n",
    "    for i in range(m):\n",
    "        plt.plot([0,x[i]],[0,y[i]],'-r')\n",
    "    # plot the vector center/average\n",
    "    plt.plot([0,X],[0,Y],'-', color = 'purple')\n",
    "    mag = np.sqrt(X**2 + Y**2)\n",
    "    plt.text(.36,1.2,'$N_{ev}$ = ' + str(m), fontsize = 15)\n",
    "    plt.text(.31,1.01,r\" |$\\langle Q_{2} \\rangle$| = \" + str(round(mag,3)), fontsize =14)\n",
    "    plt.savefig('Q_vector_center_sample.png', bbox_inches='tight', dpi=250) "
   ]
  }
 ],
 "metadata": {
  "kernelspec": {
   "display_name": "Python 3 (ipykernel)",
   "language": "python",
   "name": "python3"
  },
  "language_info": {
   "codemirror_mode": {
    "name": "ipython",
    "version": 3
   },
   "file_extension": ".py",
   "mimetype": "text/x-python",
   "name": "python",
   "nbconvert_exporter": "python",
   "pygments_lexer": "ipython3",
   "version": "3.10.9"
  }
 },
 "nbformat": 4,
 "nbformat_minor": 5
}
